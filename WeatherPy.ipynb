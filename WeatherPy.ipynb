{
 "cells": [
  {
   "cell_type": "markdown",
   "metadata": {},
   "source": [
    "# WeatherPy\n",
    "----\n",
    "\n",
    "#### Note\n",
    "* Instructions have been included for each segment. You do not have to follow them exactly, but they are included to help you think through the steps."
   ]
  },
  {
   "cell_type": "code",
   "execution_count": 6,
   "metadata": {
    "scrolled": true
   },
   "outputs": [],
   "source": [
    "import json\n",
    "import requests\n",
    "from api_key import weather_api_key\n",
    "import matplotlib.pyplot as plt\n",
    "import pandas as pd\n",
    "import numpy as np\n",
    "from citipy import citipy\n",
    "from scipy.stats import linregress\n",
    "from sklearn import datasets"
   ]
  },
  {
   "cell_type": "markdown",
   "metadata": {},
   "source": [
    "## Generate Cities List"
   ]
  },
  {
   "cell_type": "code",
   "execution_count": 10,
   "metadata": {},
   "outputs": [
    {
     "name": "stdout",
     "output_type": "stream",
     "text": [
      "['mildura', 'northampton', 'tuktoyaktuk', 'shingu', 'butaritari', 'luderitz', 'guerrero negro', 'torbay', 'mehamn', 'samalaeulu', 'busselton', 'punta arenas', 'waitati', 'hobart', 'port lincoln', 'utiroa', 'shaunavon', 'thompson', 'fairbanks', 'mar del plata', 'balkanabat', 'vaitupu', 'lompoc', 'ngunguru', 'nikolskoye', 'mataura', 'cape town', 'vila', 'suntar', 'meulaboh', 'andevoranto', 'aklavik', 'east london', 'marienburg', 'ribeira grande', 'itarema', 'larsnes', 'kearney', 'rikitea', 'rio grande', 'tara', 'taolanaro', 'bluff', 'karaton', 'hasaki', 'rock sound', 'mumford', 'longyearbyen', 'belaya gora', 'avarua', 'kati', 'new norfolk', 'illoqqortoormiut', 'vanavara', 'sentyabrskiy', 'pacific grove', 'castro', 'arraial do cabo', 'komsomolskiy', 'buta', 'carnarvon', 'fomboni', 'saldanha', 'chuy', 'san cristobal', 'atuona', 'zyryanskoye', 'hilo', 'belushya guba', 'lebu', 'bow island', 'chokurdakh', 'tabou', 'saskylakh', 'san felipe', 'kainantu', 'amambai', 'preeceville', 'puerto escondido', 'saint-philippe', 'geresk', 'okoneshnikovo', 'vardo', 'salalah', 'albany', 'kysyl-syr', 'waipawa', 'batalha', 'coihaique', 'ponta do sol', 'hithadhoo', 'trairi', 'abu kamal', 'faanui', 'jamsa', 'vaini', 'lusambo', 'sinjah', 'nishihara', 'luanda', 'saint-joseph', 'saleaula', 'jamestown', 'puerto leguizamo', 'hirna', 'kapaa', 'hamilton', 'teguldet', 'paitan', 'amderma', 'hilton head island', 'puerto ayora', 'zheleznodorozhnyy', 'ushuaia', 'gat', 'geraldton', 'mutoko', 'yablochnyy', 'lively', 'mosquera', 'kangaatsiaq', 'dicabisagan', 'bredasdorp', 'iquitos', 'contamana', 'muli', 'yellowknife', 'louisbourg', 'cangzhou', 'birjand', 'aksarka', 'eureka', 'havre-saint-pierre', 'zhuhai', 'victoria', 'port blair', 'stillwater', 'calbuco', 'antofagasta', 'yorosso', 'flinders', 'babanusah', 'kodiak', 'adrar', 'kyaikkami', 'manzanillo', 'los llanos de aridane', 'porto novo', 'san patricio', 'mercedes', 'nanortalik', 'puerto ayacucho', 'pundaguitan', 'ancud', 'jurm', 'tarudant', 'severo-kurilsk', 'bubaque', 'hermanus', 'alihe', 'yulara', 'iqaluit', 'hokitika', 'ghanzi', 'ilulissat', 'gaogou', 'huarmey', 'manali', 'qaanaaq', 'lorengau', 'mao', 'cockburn town', 'zolotinka', 'hanna', 'paragominas', 'yar-sale', 'praya', 'husavik', 'ostersund', 'sembe', 'shilka', 'mpika', 'pangoa', 'saint george', 'barra do garcas', 'hualmay', 'grootfontein', 'saveh', 'bengkulu', 'deer lake', 'mwinilunga', 'villazon', 'laharpur', 'ocna de fier', 'sechura', 'andenes', 'tonota', 'ust-koksa', 'urdzhar', 'rincon', 'kamyaran', 'saint-pierre', 'te anau', 'agua verde', 'ovsyanka', 'airai', 'dongsheng', 'sabya', 'de aar', 'attawapiskat', 'caravelas', 'ixtapa', 'prince rupert', 'hovd', 'makakilo city', 'asau', 'praia da vitoria', 'plettenberg bay', 'georgetown', 'tazovskiy', 'portree', 'bintulu', 'pangnirtung', 'paredon', 'paamiut', 'khatanga', 'kavieng', 'haverhill', 'visby', 'zhitikara', 'kushima', 'port-gentil', 'ballina', 'talnakh', 'lipetsk', 'lolua', 'lat yao', 'ipameri', 'bondoukou', 'russell', 'namatanai', 'cidreira', 'xiashi', 'tucumcari', 'yeniseysk', 'arroio grande', 'olafsvik', 'ust-omchug', 'provideniya', 'upernavik', 'port hardy', 'palora', 'bukama', 'bonavista', 'nabire', 'norman wells', 'ferrol', 'salvador', 'jupiter', 'cabedelo', 'tsumeb', 'ngukurr', 'diffa', 'brasileia', 'karpathos', 'bambous virieux', 'kavaratti', 'iraklion', 'parkes', 'yenagoa', 'kadykchan', 'outlook', 'mahebourg', 'naze', 'rawlins', 'icod de los vinos', 'port alfred', 'batagay', 'kaitangata', 'bardiyah', 'hobyo', 'svetogorsk', 'cabra', 'zadar', 'ratlam', 'chateaubelair', 'tessalit', 'abu samrah', 'puerto baquerizo moreno', 'aconibe', 'kampene', 'port elizabeth', 'rustenburg', 'hoquiam', 'denpasar', 'werda', 'teya', 'necochea', 'lagoa', 'san andres', 'grand river south east', 'saint-augustin', 'koronowo', 'tuscaloosa', 'nouadhibou', 'katsuura', 'pisco', 'oktyabrskiy', 'namibe', 'sibolga', 'abu dhabi', 'am timan', 'fukue', 'paramonga', 'camocim', 'tabiauea', 'gamba', 'malinyi', 'launceston', 'standerton', 'nuuk', 'tyler', 'bhuj', 'morondava', 'nam tha', 'mount isa', 'laramie', 'severnyy', 'benguela', 'rocha', 'tasiilaq', 'linqiong', 'konevo', 'barrow', 'achisay', 'dahod', 'mackay', 'bosansko grahovo', 'sao filipe', 'isangel', 'barentsburg', 'klaksvik', 'dudinka', 'tenosique', 'grand gaube', 'rivers', 'esperance', 'anju', 'poum', 'atyrau', 'mount gambier', 'yazd', 'dessalines', 'anchorage', 'vao', 'zhongxing', 'ojinaga', 'waingapu', 'brae', 'noumea', 'buraydah', 'san antero', 'belomorsk', 'cherskiy', 'bonthe', 'champerico', 'san quintin', 'iznik', 'odweyne', 'sorvag', 'kulhudhuffushi', 'qostanay', 'gillette', 'phek', 'ambilobe', 'codrington', 'gogosu', 'el faiyum', 'zhigansk', 'umm kaddadah', 'reconquista', 'den chai', 'bousse', 'methoni', 'tura', 'ayios kirikos', 'yumen', 'schwabisch hall', 'rio gallegos', 'glenwood springs', 'poronaysk', 'alice springs', 'tiksi', 'dingle', 'sisimiut', 'azimur', 'christchurch', 'samusu', 'la paz', 'kenai', 'belyy yar', 'orapa', 'mayo', 'dzhebariki-khaya', 'manokwari', 'hibbing', 'san rafael', 'marawi', 'tumannyy', 'moramanga', 'sawang daen din', 'nizhneyansk', 'saint-leu', 'tukrah', 'viesca', 'yarmouth', 'guanica', 'bugko', 'la ronge', 'sioux lookout', 'mozarlandia', 'catuday', 'plouzane', 'flic en flac', 'constitucion', 'mantua', 'apatou', 'havelock', 'kalmunai', 'ruatoria', 'jalu', 'sao joao da barra', 'sao jose da coroa grande', 'hay river', 'udachnyy', 'ganzhou', 'broome', 'farafangana', 'esna', 'santa barbara', 'mitsamiouli', 'chabahar', 'markova', 'karaul', 'mandsaur', 'kuche', 'qasigiannguit', 'arkhara', 'andra', 'malaya serdoba', 'kaseda', 'constantine', 'vila velha', 'coquimbo', 'yanam', 'batemans bay', 'yuzhno-yeniseyskiy', 'alta floresta', 'shenjiamen', 'hambantota', 'mariental', 'xining', 'lusaka', 'laguna', 'sarahan', 'burriana', 'ouadda', 'nome', 'aykhal', 'george town', 'dikson', 'kashan', 'beyneu', 'smirnykh', 'nikel', 'angoche', 'sergeyevka', 'rawson', 'ostashkov', 'puerto madryn', 'sivaki', 'bathsheba', 'kruisfontein', 'tilichiki', 'lamar', 'miandrivazo', 'dauriya', 'alofi', 'nenjiang', 'maniitsoq', 'wattegama', 'canton', 'naryan-mar', 'imeni poliny osipenko', 'avera', 'fortuna', 'chegdomyn', 'panguna', 'umm lajj', 'cabo san lucas', 'chara', 'lavrentiya', 'tawkar', 'shimoda', 'sayyan', 'ambodifototra', 'dombasle-sur-meurthe', 'bad salzdetfurth', 'mikhaylovka', 'mandera', 'siare', 'toliary', 'mullaitivu', 'puerto del rosario', 'los planes', 'okato', 'sao sebastiao', 'asosa', 'ust-nera', 'hunza', 'horodnytsya', 'darhan', 'kaeo', 'tolaga bay', 'vila franca do campo', 'greymouth', 'kahului', 'seidu', 'weiser', 'lakhtar', 'ulladulla', 'nanganga', 'leshukonskoye', 'cambyreta', 'siilinjarvi', 'tuatapere', 'tucurui', 'zile', 'ushibuka', 'havoysund', 'angoram', 'broken hill', 'okha', 'nevsehir', 'kronshagen', 'askino', 'arman', 'vikindu', 'novochernorechenskiy', 'deputatskiy', 'pochutla', 'buchanan', 'klyuchi', 'kayes', 'bilma', 'kyzyl-suu', 'manado', 'palmer', 'san jose', 'escarcega', 'gizo', 'tsihombe', 'makat', 'padang', 'wamba', 'melfi', 'itabirito', 'samarai', 'orje', 'the valley', 'west wendover', 'abha', 'naifaru', 'kangshan', 'nargana', 'batavia', 'souillac', 'epe', 'corinth', 'santa eulalia del rio', 'tagusao', 'chicama', 'roanoke', 'ambon', 'kongolo', 'san buenaventura', 'floro', 'road town', 'hachinohe', 'ust-kamchatsk', 'chandur bazar', 'salinas', 'richards bay', 'strezhevoy', 'nalut', 'para de minas', 'marcona', 'diapaga', 'atar', 'rafraf', 'soe', 'cravo norte', 'domoni', 'srem', 'senekal', 'coalville', 'mizdah', 'mugur-aksy', 'nampula', 'newport', 'kamenskoye', 'raudeberg', 'longkou', 'muros', 'aasiaat', 'arlit', 'brookings', 'kamariotissa', 'marsaxlokk', 'viedma', 'verkhnevilyuysk', 'acapulco', 'pevek', 'florianopolis', 'leningradskiy', 'nosy varika', 'yamada', 'riyadh', 'barnsley', 'chernyshevskiy', 'totana', 'gao', 'college', 'warqla', 'sitka', 'zongolica', 'guasdualito', 'yomitan', 'pimentel', 'grand-santi', 'addi ugri', 'denia', 'acuna', 'sibi', 'saint anthony', 'kisangani', 'guacimo', 'westport', 'tulun', 'kapoeta', 'dong hoi', 'taungdwingyi', 'xichang', 'sarana', 'anage', 'rosarito', 'uribia', 'henties bay', 'vestmannaeyjar', 'hadrut', 'burica', 'saharanpur', 'turukhansk', 'mocuba', 'tucupita', 'humaita', 'mindelo', 'ahipara', 'tena', 'mabaruma', 'iwanai', 'bethel', 'mier', 'comodoro rivadavia', 'high level', 'orebro', 'cozumel', 'wagar', 'vaitape', 'alamosa', 'sadiqabad', 'carutapera', 'cristalina', 'lengshuijiang', 'jerantut', 'ngama', 'genhe', 'el jicaro', 'darnah', 'uren', 'labuhan', 'alanya', 'bignona', 'tiznit', 'snasa', 'salta', 'maneadero', 'aloleng', 'kansay', 'tezu', 'simao', 'atasu', 'bulgan', 'kalabugao', 'ascension', 'williston', 'rumoi', 'ilhabela', 'hofn', 'jatiroto', 'kintampo', 'chegem', 'kudahuvadhoo', 'ust-kan', 'vengerovo', 'bitung', 'touros', 'valdivia', 'paris', 'taclobo', 'akdepe', 'issenye', 'kamaishi', 'ninghai', 'sumbe', 'moranbah', 'dubrovka', 'ayios matthaios', 'la virginia', 'bilibino', 'kalemie', 'koslan', 'anuradhapura', 'faya', 'gull lake', 'guymon', 'taiyuan', 'lethem', 'loiza', 'umzimvubu', 'francisco beltrao', 'boundiali', 'aksu', 'kautokeino', 'timmins', 'northam', 'hervey bay', 'biak', 'sikonge', 'oranjemund', 'sur', 'clyde river', 'sapao', 'cabinda', 'taicheng', 'macenta', 'dolores', 'kushiro', 'katol', 'harper', 'kamenka', 'candido mendes', 'inhambane', 'yabassi', 'forestville', 'palabuhanratu', 'marataizes', 'pietersburg', 'kungurtug', 'uglovka', 'egvekinot', 'bismarck', 'linhares', 'bolshegrivskoye', 'devrek', 'port hedland', 'pozo colorado', 'beringovskiy', 'taoudenni', 'umm ruwabah', 'leh', 'mentok', 'bokovskaya', 'bani walid', 'labytnangi', 'dunedin', 'gannan', 'kloulklubed', 'orda', 'takoradi', 'siderno', 'margate', 'fort-shevchenko', 'magaria', 'saryshagan', 'lerwick', 'doha', 'arona', 'hendijan', 'zyryanka', 'aden', 'skibbereen', 'evensk', 'san ramon', 'baykit', 'nago', 'muisne', 'ercis', 'alexandria', 'berdigestyakh', 'marzuq', 'yatou', 'vostok', 'maningrida', 'el balyana', 'padong', 'covarachia', 'limon', 'lakes entrance', 'ligayan', 'camabatela', 'makokou', 'cuamba', 'kiomboi', 'aflu', 'mys shmidta', 'cherdyn', 'waterloo', 'nong ki', 'dicoyong', 'moncton', 'mawlaik', 'aljezur', 'plataiai', 'kilosa', 'fort saint john', 'tarut', 'kyshtovka', 'flin flon', 'san policarpo']\n"
     ]
    }
   ],
   "source": [
    "latitude_range = (-80,80)\n",
    "long_range = (-180, 180)\n",
    "lat_lngs = []\n",
    "\n",
    "cities = []\n",
    "\n",
    "lat = np.random.uniform(latitude_range[0],latitude_range[1], size = 2000)\n",
    "lng = np.random.uniform(long_range[0],long_range[1], size = 2000)\n",
    "lat_lngs = zip(lat, lng)\n",
    "\n",
    "\n",
    "\n",
    "for lat_lng in lat_lngs:\n",
    "    location = citipy.nearest_city(lat_lng[0], lat_lng[1]).city_name\n",
    "    #location = location.replace(\" \", \"%20\")\n",
    "    if location not in cities:\n",
    "        cities.append(location)\n",
    "len(cities)\n",
    "print(cities)"
   ]
  },
  {
   "cell_type": "markdown",
   "metadata": {},
   "source": [
    "### Perform API Calls\n",
    "* Perform a weather check on each city using a series of successive API calls.\n",
    "* Include a print log of each city as it'sbeing processed (with the city number and city name).\n"
   ]
  },
  {
   "cell_type": "code",
   "execution_count": 14,
   "metadata": {
    "scrolled": true
   },
   "outputs": [
    {
     "ename": "TypeError",
     "evalue": "can only concatenate str (not \"tuple\") to str",
     "output_type": "error",
     "traceback": [
      "\u001b[1;31m---------------------------------------------------------------------------\u001b[0m",
      "\u001b[1;31mTypeError\u001b[0m                                 Traceback (most recent call last)",
      "\u001b[1;32m<ipython-input-14-4b2268c92d42>\u001b[0m in \u001b[0;36m<module>\u001b[1;34m\u001b[0m\n\u001b[0;32m     17\u001b[0m \u001b[1;33m\u001b[0m\u001b[0m\n\u001b[0;32m     18\u001b[0m \u001b[1;32mfor\u001b[0m \u001b[0mcity\u001b[0m \u001b[1;32min\u001b[0m \u001b[0menumerate\u001b[0m\u001b[1;33m(\u001b[0m\u001b[0mcities\u001b[0m\u001b[1;33m)\u001b[0m\u001b[1;33m:\u001b[0m\u001b[1;33m\u001b[0m\u001b[1;33m\u001b[0m\u001b[0m\n\u001b[1;32m---> 19\u001b[1;33m     \u001b[0mresponse\u001b[0m \u001b[1;33m=\u001b[0m \u001b[0mrequests\u001b[0m\u001b[1;33m.\u001b[0m\u001b[0mget\u001b[0m\u001b[1;33m(\u001b[0m\u001b[0mquery_url\u001b[0m \u001b[1;33m+\u001b[0m \u001b[0mcity\u001b[0m\u001b[1;33m)\u001b[0m\u001b[1;33m.\u001b[0m\u001b[0mjson\u001b[0m\u001b[1;33m(\u001b[0m\u001b[1;33m)\u001b[0m\u001b[1;33m\u001b[0m\u001b[1;33m\u001b[0m\u001b[0m\n\u001b[0m\u001b[0;32m     20\u001b[0m     \u001b[0mlongitude\u001b[0m\u001b[1;33m.\u001b[0m\u001b[0mappend\u001b[0m\u001b[1;33m(\u001b[0m\u001b[0mresponse\u001b[0m\u001b[1;33m[\u001b[0m\u001b[1;34m'coord'\u001b[0m\u001b[1;33m]\u001b[0m\u001b[1;33m[\u001b[0m\u001b[1;34m'lon'\u001b[0m\u001b[1;33m]\u001b[0m\u001b[1;33m)\u001b[0m\u001b[1;33m\u001b[0m\u001b[1;33m\u001b[0m\u001b[0m\n\u001b[0;32m     21\u001b[0m     \u001b[0mlatitude\u001b[0m\u001b[1;33m.\u001b[0m\u001b[0mappend\u001b[0m\u001b[1;33m(\u001b[0m\u001b[0mresponse\u001b[0m\u001b[1;33m[\u001b[0m\u001b[1;34m'coord'\u001b[0m\u001b[1;33m]\u001b[0m\u001b[1;33m[\u001b[0m\u001b[1;34m'lat'\u001b[0m\u001b[1;33m]\u001b[0m\u001b[1;33m)\u001b[0m\u001b[1;33m\u001b[0m\u001b[1;33m\u001b[0m\u001b[0m\n",
      "\u001b[1;31mTypeError\u001b[0m: can only concatenate str (not \"tuple\") to str"
     ]
    }
   ],
   "source": [
    "\n",
    "\n",
    "url = \"http://api.openweathermap.org/data/2.5/weather?\"\n",
    "units = \"metric\"\n",
    "query_url = f\"{url}appid={weather_api_key}&units={units}&q=\"\n",
    "\n",
    " \n",
    "\n",
    "longitude = []\n",
    "latitude = []\n",
    "temp_max = []\n",
    "humidity = []\n",
    "cloudiness = []\n",
    "windspeed = []\n",
    "country = []\n",
    "date = []\n",
    "\n",
    "record = 1\n",
    "\n",
    "for city in cities:\n",
    "    response = requests.get(query_url + city).json()\n",
    "    longitude.append(response['coord']['lon'])\n",
    "    latitude.append(response['coord']['lat'])\n",
    "    temp_max.append(response['main']['temp_max'])\n",
    "    humidity.append(response['main']['humidity'])\n",
    "    cloudiness.append(response['clouds']['all'])\n",
    "    windspeed.append(response['wind']['speed'])\n",
    "    country.append(response['sys']['country'])\n",
    "    date.append(response['dt'])\n",
    "    print(f\"Processing Record {record} of set 1 | {city}\")\n",
    "    \n",
    "    record += 1\n",
    "\n",
    "\n",
    "\n"
   ]
  },
  {
   "cell_type": "markdown",
   "metadata": {},
   "source": [
    "### Convert Raw Data to DataFrame\n",
    "* Export the city data into a .csv.\n",
    "* Display the DataFrame"
   ]
  },
  {
   "cell_type": "code",
   "execution_count": 4,
   "metadata": {},
   "outputs": [
    {
     "data": {
      "text/html": [
       "<div>\n",
       "<style scoped>\n",
       "    .dataframe tbody tr th:only-of-type {\n",
       "        vertical-align: middle;\n",
       "    }\n",
       "\n",
       "    .dataframe tbody tr th {\n",
       "        vertical-align: top;\n",
       "    }\n",
       "\n",
       "    .dataframe thead th {\n",
       "        text-align: right;\n",
       "    }\n",
       "</style>\n",
       "<table border=\"1\" class=\"dataframe\">\n",
       "  <thead>\n",
       "    <tr style=\"text-align: right;\">\n",
       "      <th></th>\n",
       "      <th>City</th>\n",
       "      <th>Lat</th>\n",
       "      <th>Lng</th>\n",
       "      <th>Max Temp</th>\n",
       "      <th>Humidity</th>\n",
       "      <th>Cloudiness</th>\n",
       "      <th>Wind Speed</th>\n",
       "      <th>Country</th>\n",
       "      <th>Date</th>\n",
       "    </tr>\n",
       "  </thead>\n",
       "  <tbody>\n",
       "    <tr>\n",
       "      <th>count</th>\n",
       "      <td>0.0</td>\n",
       "      <td>0.0</td>\n",
       "      <td>0.0</td>\n",
       "      <td>0.0</td>\n",
       "      <td>0.0</td>\n",
       "      <td>0.0</td>\n",
       "      <td>0.0</td>\n",
       "      <td>0.0</td>\n",
       "      <td>0.0</td>\n",
       "    </tr>\n",
       "    <tr>\n",
       "      <th>mean</th>\n",
       "      <td>NaN</td>\n",
       "      <td>NaN</td>\n",
       "      <td>NaN</td>\n",
       "      <td>NaN</td>\n",
       "      <td>NaN</td>\n",
       "      <td>NaN</td>\n",
       "      <td>NaN</td>\n",
       "      <td>NaN</td>\n",
       "      <td>NaN</td>\n",
       "    </tr>\n",
       "    <tr>\n",
       "      <th>std</th>\n",
       "      <td>NaN</td>\n",
       "      <td>NaN</td>\n",
       "      <td>NaN</td>\n",
       "      <td>NaN</td>\n",
       "      <td>NaN</td>\n",
       "      <td>NaN</td>\n",
       "      <td>NaN</td>\n",
       "      <td>NaN</td>\n",
       "      <td>NaN</td>\n",
       "    </tr>\n",
       "    <tr>\n",
       "      <th>min</th>\n",
       "      <td>NaN</td>\n",
       "      <td>NaN</td>\n",
       "      <td>NaN</td>\n",
       "      <td>NaN</td>\n",
       "      <td>NaN</td>\n",
       "      <td>NaN</td>\n",
       "      <td>NaN</td>\n",
       "      <td>NaN</td>\n",
       "      <td>NaN</td>\n",
       "    </tr>\n",
       "    <tr>\n",
       "      <th>25%</th>\n",
       "      <td>NaN</td>\n",
       "      <td>NaN</td>\n",
       "      <td>NaN</td>\n",
       "      <td>NaN</td>\n",
       "      <td>NaN</td>\n",
       "      <td>NaN</td>\n",
       "      <td>NaN</td>\n",
       "      <td>NaN</td>\n",
       "      <td>NaN</td>\n",
       "    </tr>\n",
       "    <tr>\n",
       "      <th>50%</th>\n",
       "      <td>NaN</td>\n",
       "      <td>NaN</td>\n",
       "      <td>NaN</td>\n",
       "      <td>NaN</td>\n",
       "      <td>NaN</td>\n",
       "      <td>NaN</td>\n",
       "      <td>NaN</td>\n",
       "      <td>NaN</td>\n",
       "      <td>NaN</td>\n",
       "    </tr>\n",
       "    <tr>\n",
       "      <th>75%</th>\n",
       "      <td>NaN</td>\n",
       "      <td>NaN</td>\n",
       "      <td>NaN</td>\n",
       "      <td>NaN</td>\n",
       "      <td>NaN</td>\n",
       "      <td>NaN</td>\n",
       "      <td>NaN</td>\n",
       "      <td>NaN</td>\n",
       "      <td>NaN</td>\n",
       "    </tr>\n",
       "    <tr>\n",
       "      <th>max</th>\n",
       "      <td>NaN</td>\n",
       "      <td>NaN</td>\n",
       "      <td>NaN</td>\n",
       "      <td>NaN</td>\n",
       "      <td>NaN</td>\n",
       "      <td>NaN</td>\n",
       "      <td>NaN</td>\n",
       "      <td>NaN</td>\n",
       "      <td>NaN</td>\n",
       "    </tr>\n",
       "  </tbody>\n",
       "</table>\n",
       "</div>"
      ],
      "text/plain": [
       "       City  Lat  Lng  Max Temp  Humidity  Cloudiness  Wind Speed  Country  \\\n",
       "count   0.0  0.0  0.0       0.0       0.0         0.0         0.0      0.0   \n",
       "mean    NaN  NaN  NaN       NaN       NaN         NaN         NaN      NaN   \n",
       "std     NaN  NaN  NaN       NaN       NaN         NaN         NaN      NaN   \n",
       "min     NaN  NaN  NaN       NaN       NaN         NaN         NaN      NaN   \n",
       "25%     NaN  NaN  NaN       NaN       NaN         NaN         NaN      NaN   \n",
       "50%     NaN  NaN  NaN       NaN       NaN         NaN         NaN      NaN   \n",
       "75%     NaN  NaN  NaN       NaN       NaN         NaN         NaN      NaN   \n",
       "max     NaN  NaN  NaN       NaN       NaN         NaN         NaN      NaN   \n",
       "\n",
       "       Date  \n",
       "count   0.0  \n",
       "mean    NaN  \n",
       "std     NaN  \n",
       "min     NaN  \n",
       "25%     NaN  \n",
       "50%     NaN  \n",
       "75%     NaN  \n",
       "max     NaN  "
      ]
     },
     "execution_count": 4,
     "metadata": {},
     "output_type": "execute_result"
    }
   ],
   "source": [
    "weather_data_dict = {\"City\":cities, \"Lat\":latitude,\n",
    "                           \"Lng\":longitude, \"Max Temp\":temp_max,\n",
    "                            \"Humidity\":humidity,\"Cloudiness\":cloudiness, \"Wind Speed\":windspeed,\n",
    "                            \"Country\":country, \"Date\":date}\n",
    "\n",
    "\n",
    "weather_data = pd.DataFrame(weather_data_dict)\n",
    "\n",
    "weather_data.describe()\n",
    "\n",
    "               "
   ]
  },
  {
   "cell_type": "code",
   "execution_count": 5,
   "metadata": {},
   "outputs": [
    {
     "ename": "FileNotFoundError",
     "evalue": "[Errno 2] No such file or directory: 'Output_csv/weather_data.csv'",
     "output_type": "error",
     "traceback": [
      "\u001b[1;31m---------------------------------------------------------------------------\u001b[0m",
      "\u001b[1;31mFileNotFoundError\u001b[0m                         Traceback (most recent call last)",
      "\u001b[1;32m<ipython-input-5-eee437e03c33>\u001b[0m in \u001b[0;36m<module>\u001b[1;34m\u001b[0m\n\u001b[1;32m----> 1\u001b[1;33m \u001b[0mweather_data\u001b[0m\u001b[1;33m.\u001b[0m\u001b[0mto_csv\u001b[0m\u001b[1;33m(\u001b[0m\u001b[1;34m'Output_csv/weather_data.csv'\u001b[0m\u001b[1;33m)\u001b[0m\u001b[1;33m\u001b[0m\u001b[1;33m\u001b[0m\u001b[0m\n\u001b[0m",
      "\u001b[1;32m~\\anaconda3\\lib\\site-packages\\pandas\\core\\generic.py\u001b[0m in \u001b[0;36mto_csv\u001b[1;34m(self, path_or_buf, sep, na_rep, float_format, columns, header, index, index_label, mode, encoding, compression, quoting, quotechar, line_terminator, chunksize, date_format, doublequote, escapechar, decimal)\u001b[0m\n\u001b[0;32m   3202\u001b[0m             \u001b[0mdecimal\u001b[0m\u001b[1;33m=\u001b[0m\u001b[0mdecimal\u001b[0m\u001b[1;33m,\u001b[0m\u001b[1;33m\u001b[0m\u001b[1;33m\u001b[0m\u001b[0m\n\u001b[0;32m   3203\u001b[0m         )\n\u001b[1;32m-> 3204\u001b[1;33m         \u001b[0mformatter\u001b[0m\u001b[1;33m.\u001b[0m\u001b[0msave\u001b[0m\u001b[1;33m(\u001b[0m\u001b[1;33m)\u001b[0m\u001b[1;33m\u001b[0m\u001b[1;33m\u001b[0m\u001b[0m\n\u001b[0m\u001b[0;32m   3205\u001b[0m \u001b[1;33m\u001b[0m\u001b[0m\n\u001b[0;32m   3206\u001b[0m         \u001b[1;32mif\u001b[0m \u001b[0mpath_or_buf\u001b[0m \u001b[1;32mis\u001b[0m \u001b[1;32mNone\u001b[0m\u001b[1;33m:\u001b[0m\u001b[1;33m\u001b[0m\u001b[1;33m\u001b[0m\u001b[0m\n",
      "\u001b[1;32m~\\anaconda3\\lib\\site-packages\\pandas\\io\\formats\\csvs.py\u001b[0m in \u001b[0;36msave\u001b[1;34m(self)\u001b[0m\n\u001b[0;32m    186\u001b[0m                 \u001b[0mself\u001b[0m\u001b[1;33m.\u001b[0m\u001b[0mmode\u001b[0m\u001b[1;33m,\u001b[0m\u001b[1;33m\u001b[0m\u001b[1;33m\u001b[0m\u001b[0m\n\u001b[0;32m    187\u001b[0m                 \u001b[0mencoding\u001b[0m\u001b[1;33m=\u001b[0m\u001b[0mself\u001b[0m\u001b[1;33m.\u001b[0m\u001b[0mencoding\u001b[0m\u001b[1;33m,\u001b[0m\u001b[1;33m\u001b[0m\u001b[1;33m\u001b[0m\u001b[0m\n\u001b[1;32m--> 188\u001b[1;33m                 \u001b[0mcompression\u001b[0m\u001b[1;33m=\u001b[0m\u001b[0mdict\u001b[0m\u001b[1;33m(\u001b[0m\u001b[0mself\u001b[0m\u001b[1;33m.\u001b[0m\u001b[0mcompression_args\u001b[0m\u001b[1;33m,\u001b[0m \u001b[0mmethod\u001b[0m\u001b[1;33m=\u001b[0m\u001b[0mself\u001b[0m\u001b[1;33m.\u001b[0m\u001b[0mcompression\u001b[0m\u001b[1;33m)\u001b[0m\u001b[1;33m,\u001b[0m\u001b[1;33m\u001b[0m\u001b[1;33m\u001b[0m\u001b[0m\n\u001b[0m\u001b[0;32m    189\u001b[0m             )\n\u001b[0;32m    190\u001b[0m             \u001b[0mclose\u001b[0m \u001b[1;33m=\u001b[0m \u001b[1;32mTrue\u001b[0m\u001b[1;33m\u001b[0m\u001b[1;33m\u001b[0m\u001b[0m\n",
      "\u001b[1;32m~\\anaconda3\\lib\\site-packages\\pandas\\io\\common.py\u001b[0m in \u001b[0;36mget_handle\u001b[1;34m(path_or_buf, mode, encoding, compression, memory_map, is_text)\u001b[0m\n\u001b[0;32m    426\u001b[0m         \u001b[1;32mif\u001b[0m \u001b[0mencoding\u001b[0m\u001b[1;33m:\u001b[0m\u001b[1;33m\u001b[0m\u001b[1;33m\u001b[0m\u001b[0m\n\u001b[0;32m    427\u001b[0m             \u001b[1;31m# Encoding\u001b[0m\u001b[1;33m\u001b[0m\u001b[1;33m\u001b[0m\u001b[1;33m\u001b[0m\u001b[0m\n\u001b[1;32m--> 428\u001b[1;33m             \u001b[0mf\u001b[0m \u001b[1;33m=\u001b[0m \u001b[0mopen\u001b[0m\u001b[1;33m(\u001b[0m\u001b[0mpath_or_buf\u001b[0m\u001b[1;33m,\u001b[0m \u001b[0mmode\u001b[0m\u001b[1;33m,\u001b[0m \u001b[0mencoding\u001b[0m\u001b[1;33m=\u001b[0m\u001b[0mencoding\u001b[0m\u001b[1;33m,\u001b[0m \u001b[0mnewline\u001b[0m\u001b[1;33m=\u001b[0m\u001b[1;34m\"\"\u001b[0m\u001b[1;33m)\u001b[0m\u001b[1;33m\u001b[0m\u001b[1;33m\u001b[0m\u001b[0m\n\u001b[0m\u001b[0;32m    429\u001b[0m         \u001b[1;32melif\u001b[0m \u001b[0mis_text\u001b[0m\u001b[1;33m:\u001b[0m\u001b[1;33m\u001b[0m\u001b[1;33m\u001b[0m\u001b[0m\n\u001b[0;32m    430\u001b[0m             \u001b[1;31m# No explicit encoding\u001b[0m\u001b[1;33m\u001b[0m\u001b[1;33m\u001b[0m\u001b[1;33m\u001b[0m\u001b[0m\n",
      "\u001b[1;31mFileNotFoundError\u001b[0m: [Errno 2] No such file or directory: 'Output_csv/weather_data.csv'"
     ]
    }
   ],
   "source": [
    "weather_data.to_csv('Output_csv/weather_data.csv')"
   ]
  },
  {
   "cell_type": "markdown",
   "metadata": {},
   "source": [
    "## Inspect the data and remove the cities where the humidity > 100%.\n",
    "----\n",
    "Skip this step if there are no cities that have humidity > 100%. "
   ]
  },
  {
   "cell_type": "code",
   "execution_count": null,
   "metadata": {},
   "outputs": [],
   "source": [
    "clean_city_data = weather_data.drop(weather_data[weather_data['Humidity'] > 100].index, inplace = True) "
   ]
  },
  {
   "cell_type": "code",
   "execution_count": null,
   "metadata": {},
   "outputs": [],
   "source": [
    "#  Get the indices of cities that have humidity over 100%.\n"
   ]
  },
  {
   "cell_type": "code",
   "execution_count": null,
   "metadata": {},
   "outputs": [],
   "source": [
    "# Make a new DataFrame equal to the city data to drop all humidity outliers by index.\n",
    "# Passing \"inplace=False\" will make a copy of the city_data DataFrame, which we call \"clean_city_data\".\n"
   ]
  },
  {
   "cell_type": "code",
   "execution_count": null,
   "metadata": {},
   "outputs": [],
   "source": [
    "\n"
   ]
  },
  {
   "cell_type": "markdown",
   "metadata": {},
   "source": [
    "## Plotting the Data\n",
    "* Use proper labeling of the plots using plot titles (including date of analysis) and axes labels.\n",
    "* Save the plotted figures as .pngs."
   ]
  },
  {
   "cell_type": "markdown",
   "metadata": {},
   "source": [
    "## Latitude vs. Temperature Plot"
   ]
  },
  {
   "cell_type": "code",
   "execution_count": null,
   "metadata": {
    "scrolled": true
   },
   "outputs": [],
   "source": [
    "plt.scatter(clean_city_data['Latitude'], clean_city_data['Max Temp'], marker='o', s=10)\n",
    "plt.title(\"City Latitude Vs. Max Temp\")\n",
    "plt.ylabel(\"Max Temp\")\n",
    "plt.xlabel(\"Latitude\")\n",
    "plt.savefig(\"Output_plots/Max_Temp_VS_Lat.png\")"
   ]
  },
  {
   "cell_type": "markdown",
   "metadata": {},
   "source": [
    "## Latitude vs. Humidity Plot"
   ]
  },
  {
   "cell_type": "code",
   "execution_count": null,
   "metadata": {},
   "outputs": [],
   "source": [
    "plt.scatter(clean_city_data['Latitude'], clean_city_data['Humidity'], marker='o', s=10)\n",
    "plt.title(\"City Latitude Vs. Humidity\")\n",
    "plt.ylabel(\"Humidity\")\n",
    "plt.xlabel(\"Latitude\")\n",
    "plt.savefig(\"Output_plots/Max_Temp_VS_Lat.png\")"
   ]
  },
  {
   "cell_type": "markdown",
   "metadata": {},
   "source": [
    "## Latitude vs. Cloudiness Plot"
   ]
  },
  {
   "cell_type": "code",
   "execution_count": null,
   "metadata": {},
   "outputs": [],
   "source": [
    "plt.scatter(clean_city_data['Latitude'], clean_city_data['Cloudiness'], marker='o', s=10)\n",
    "plt.title(\"City Latitude Vs. Cloudiness\")\n",
    "plt.ylabel(\"Cloudiness\")\n",
    "plt.xlabel(\"Latitude\")\n",
    "plt.savefig(\"Output_plots/Max_Temp_VS_Lat.png\")"
   ]
  },
  {
   "cell_type": "markdown",
   "metadata": {},
   "source": [
    "## Latitude vs. Wind Speed Plot"
   ]
  },
  {
   "cell_type": "code",
   "execution_count": null,
   "metadata": {},
   "outputs": [],
   "source": [
    "plt.scatter(clean_city_data['Latitude'], clean_city_data['Wind Speed'], marker='o', s=10)\n",
    "plt.title(\"City Latitude Vs. Wind Speed\")\n",
    "plt.ylabel(\"Wind Speed\")\n",
    "plt.xlabel(\"Latitude\")\n",
    "plt.savefig(\"Output_plots/Max_Temp_VS_Lat.png\")"
   ]
  },
  {
   "cell_type": "markdown",
   "metadata": {},
   "source": [
    "## Linear Regression"
   ]
  },
  {
   "cell_type": "code",
   "execution_count": null,
   "metadata": {},
   "outputs": [],
   "source": [
    "North_data = clean_city_data.drop(clean_city_data[clean_city_data['Latitude'] > 0].index, inplace = True)\n",
    "South_data = clean_city_data.drop(clean_city_data[clean_city_data['Latitude'] < 0].index, inplace = True)"
   ]
  },
  {
   "cell_type": "markdown",
   "metadata": {},
   "source": [
    "####  Northern Hemisphere - Max Temp vs. Latitude Linear Regression"
   ]
  },
  {
   "cell_type": "code",
   "execution_count": null,
   "metadata": {},
   "outputs": [],
   "source": [
    "x_values = North_data['Latitude']\n",
    "y_values = North_data['Max Temp']\n",
    "(slope, intercept, rvalue, pvalue, stderr) = linregress(x_values, y_values)\n",
    "regress_values = x_values * slope + intercept\n",
    "line_eq = \"y = \" + str(round(slope,2)) + \"x + \" + str(round(intercept,2))\n",
    "plt.scatter(x_values,y_values)\n",
    "plt.plot(x_values,regress_values,\"r-\")\n",
    "plt.annotate(line_eq,(0,50),fontsize=15,color=\"red\")\n",
    "plt.xlabel('Northern Latitude')\n",
    "plt.ylabel('Max Temp')\n",
    "print(f\"The r-squared is: {rvalue**2}\")\n",
    "plt.show()"
   ]
  },
  {
   "cell_type": "markdown",
   "metadata": {},
   "source": [
    "####  Southern Hemisphere - Max Temp vs. Latitude Linear Regression"
   ]
  },
  {
   "cell_type": "code",
   "execution_count": null,
   "metadata": {},
   "outputs": [],
   "source": [
    "x_values = South_data['Latitude']\n",
    "y_values = South_data['Max Temp']\n",
    "(slope, intercept, rvalue, pvalue, stderr) = linregress(x_values, y_values)\n",
    "regress_values = x_values * slope + intercept\n",
    "line_eq = \"y = \" + str(round(slope,2)) + \"x + \" + str(round(intercept,2))\n",
    "plt.scatter(x_values,y_values)\n",
    "plt.plot(x_values,regress_values,\"r-\")\n",
    "plt.annotate(line_eq,(0,50),fontsize=15,color=\"red\")\n",
    "plt.xlabel('Southern Latitude')\n",
    "plt.ylabel('Max Temp')\n",
    "print(f\"The r-squared is: {rvalue**2}\")\n",
    "plt.show()"
   ]
  },
  {
   "cell_type": "markdown",
   "metadata": {},
   "source": [
    "####  Northern Hemisphere - Humidity (%) vs. Latitude Linear Regression"
   ]
  },
  {
   "cell_type": "code",
   "execution_count": null,
   "metadata": {},
   "outputs": [],
   "source": [
    "x_values = North_data['Humidity']\n",
    "y_values = North_data['Max Temp']\n",
    "(slope, intercept, rvalue, pvalue, stderr) = linregress(x_values, y_values)\n",
    "regress_values = x_values * slope + intercept\n",
    "line_eq = \"y = \" + str(round(slope,2)) + \"x + \" + str(round(intercept,2))\n",
    "plt.scatter(x_values,y_values)\n",
    "plt.plot(x_values,regress_values,\"r-\")\n",
    "plt.annotate(line_eq,(0,50),fontsize=15,color=\"red\")\n",
    "plt.xlabel('Northern Latitude')\n",
    "plt.ylabel('Max Temp')\n",
    "print(f\"The r-squared is: {rvalue**2}\")\n",
    "plt.show()"
   ]
  },
  {
   "cell_type": "markdown",
   "metadata": {},
   "source": [
    "####  Southern Hemisphere - Humidity (%) vs. Latitude Linear Regression"
   ]
  },
  {
   "cell_type": "code",
   "execution_count": null,
   "metadata": {},
   "outputs": [],
   "source": [
    "x_values = South_data['Latitude']\n",
    "y_values = South_data['Humidity']\n",
    "(slope, intercept, rvalue, pvalue, stderr) = linregress(x_values, y_values)\n",
    "regress_values = x_values * slope + intercept\n",
    "line_eq = \"y = \" + str(round(slope,2)) + \"x + \" + str(round(intercept,2))\n",
    "plt.scatter(x_values,y_values)\n",
    "plt.plot(x_values,regress_values,\"r-\")\n",
    "plt.annotate(line_eq,(0,50),fontsize=15,color=\"red\")\n",
    "plt.xlabel('Southern Latitude')\n",
    "plt.ylabel('Humidity')\n",
    "print(f\"The r-squared is: {rvalue**2}\")\n",
    "plt.show()"
   ]
  },
  {
   "cell_type": "markdown",
   "metadata": {},
   "source": [
    "####  Northern Hemisphere - Cloudiness (%) vs. Latitude Linear Regression"
   ]
  },
  {
   "cell_type": "code",
   "execution_count": null,
   "metadata": {},
   "outputs": [],
   "source": [
    "x_values = North_data['Latitude']\n",
    "y_values = North_data['Cloudiness']\n",
    "(slope, intercept, rvalue, pvalue, stderr) = linregress(x_values, y_values)\n",
    "regress_values = x_values * slope + intercept\n",
    "line_eq = \"y = \" + str(round(slope,2)) + \"x + \" + str(round(intercept,2))\n",
    "plt.scatter(x_values,y_values)\n",
    "plt.plot(x_values,regress_values,\"r-\")\n",
    "plt.annotate(line_eq,(0,50),fontsize=15,color=\"red\")\n",
    "plt.xlabel('Northern Latitude')\n",
    "plt.ylabel('Cloudiness')\n",
    "print(f\"The r-squared is: {rvalue**2}\")\n",
    "plt.show()"
   ]
  },
  {
   "cell_type": "markdown",
   "metadata": {},
   "source": [
    "####  Southern Hemisphere - Cloudiness (%) vs. Latitude Linear Regression"
   ]
  },
  {
   "cell_type": "code",
   "execution_count": null,
   "metadata": {},
   "outputs": [],
   "source": [
    "x_values = South_data['Latitude']\n",
    "y_values = South_data['Cloudiness']\n",
    "(slope, intercept, rvalue, pvalue, stderr) = linregress(x_values, y_values)\n",
    "regress_values = x_values * slope + intercept\n",
    "line_eq = \"y = \" + str(round(slope,2)) + \"x + \" + str(round(intercept,2))\n",
    "plt.scatter(x_values,y_values)\n",
    "plt.plot(x_values,regress_values,\"r-\")\n",
    "plt.annotate(line_eq,(0,50),fontsize=15,color=\"red\")\n",
    "plt.xlabel('Southern Latitude')\n",
    "plt.ylabel('Cloudiness')\n",
    "print(f\"The r-squared is: {rvalue**2}\")\n",
    "plt.show()"
   ]
  },
  {
   "cell_type": "markdown",
   "metadata": {},
   "source": [
    "####  Northern Hemisphere - Wind Speed (mph) vs. Latitude Linear Regression"
   ]
  },
  {
   "cell_type": "code",
   "execution_count": null,
   "metadata": {},
   "outputs": [],
   "source": [
    "x_values = North_data['Latitude']\n",
    "y_values = North_data['Wind Speed']\n",
    "(slope, intercept, rvalue, pvalue, stderr) = linregress(x_values, y_values)\n",
    "regress_values = x_values * slope + intercept\n",
    "line_eq = \"y = \" + str(round(slope,2)) + \"x + \" + str(round(intercept,2))\n",
    "plt.scatter(x_values,y_values)\n",
    "plt.plot(x_values,regress_values,\"r-\")\n",
    "plt.annotate(line_eq,(0,50),fontsize=15,color=\"red\")\n",
    "plt.xlabel('Northern Latitude')\n",
    "plt.ylabel('Wind Speed')\n",
    "print(f\"The r-squared is: {rvalue**2}\")\n",
    "plt.show()"
   ]
  },
  {
   "cell_type": "markdown",
   "metadata": {},
   "source": [
    "####  Southern Hemisphere - Wind Speed (mph) vs. Latitude Linear Regression"
   ]
  },
  {
   "cell_type": "code",
   "execution_count": null,
   "metadata": {},
   "outputs": [],
   "source": [
    "x_values = South_data['Latitude']\n",
    "y_values = South_data['Wind Speed']\n",
    "(slope, intercept, rvalue, pvalue, stderr) = linregress(x_values, y_values)\n",
    "regress_values = x_values * slope + intercept\n",
    "line_eq = \"y = \" + str(round(slope,2)) + \"x + \" + str(round(intercept,2))\n",
    "plt.scatter(x_values,y_values)\n",
    "plt.plot(x_values,regress_values,\"r-\")\n",
    "plt.annotate(line_eq,(0,50),fontsize=15,color=\"red\")\n",
    "plt.xlabel('Southern Latitude')\n",
    "plt.ylabel('Wind Speed')\n",
    "print(f\"The r-squared is: {rvalue**2}\")\n",
    "plt.show()"
   ]
  },
  {
   "cell_type": "code",
   "execution_count": null,
   "metadata": {},
   "outputs": [],
   "source": []
  }
 ],
 "metadata": {
  "anaconda-cloud": {},
  "kernel_info": {
   "name": "python3"
  },
  "kernelspec": {
   "display_name": "Python 3",
   "language": "python",
   "name": "python3"
  },
  "language_info": {
   "codemirror_mode": {
    "name": "ipython",
    "version": 3
   },
   "file_extension": ".py",
   "mimetype": "text/x-python",
   "name": "python",
   "nbconvert_exporter": "python",
   "pygments_lexer": "ipython3",
   "version": "3.6.10"
  },
  "latex_envs": {
   "LaTeX_envs_menu_present": true,
   "autoclose": false,
   "autocomplete": true,
   "bibliofile": "biblio.bib",
   "cite_by": "apalike",
   "current_citInitial": 1,
   "eqLabelWithNumbers": true,
   "eqNumInitial": 1,
   "hotkeys": {
    "equation": "Ctrl-E",
    "itemize": "Ctrl-I"
   },
   "labels_anchors": false,
   "latex_user_defs": false,
   "report_style_numbering": false,
   "user_envs_cfg": false
  },
  "nteract": {
   "version": "0.12.3"
  }
 },
 "nbformat": 4,
 "nbformat_minor": 2
}
